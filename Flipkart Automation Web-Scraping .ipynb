{
 "cells": [
  {
   "cell_type": "code",
   "execution_count": 1,
   "id": "20f24055",
   "metadata": {},
   "outputs": [],
   "source": [
    "from selenium import webdriver\n",
    "from selenium.webdriver.support.ui import Select\n",
    "from selenium.webdriver.common.keys import Keys\n",
    "from selenium.webdriver.chrome.service import Service\n",
    "from selenium.webdriver.chrome.options import Options\n",
    "from selenium.webdriver.support.ui import WebDriverWait\n",
    "from selenium.webdriver.support import expected_conditions as EC\n",
    "from selenium.webdriver.common.by import By\n",
    "from bs4 import BeautifulSoup\n",
    "from time import sleep\n",
    "import requests\n",
    "import html5lib\n",
    "import pandas as pd"
   ]
  },
  {
   "cell_type": "code",
   "execution_count": 9,
   "id": "a37d7acd",
   "metadata": {},
   "outputs": [],
   "source": [
    "options = Options()\n",
    "s = Service(r'C:\\Users\\My PC\\Documents\\Projects_Python\\chromedriver.exe')\n",
    "driver = webdriver.Chrome(service=s,options=options)\n",
    "driver.get('https://www.flipkart.com/')\n",
    "\n",
    "cross = driver.find_element(By.CSS_SELECTOR,'._30XB9F')\n",
    "cross.click()\n",
    "driver.maximize_window()\n",
    "sleep(2)"
   ]
  },
  {
   "cell_type": "code",
   "execution_count": 10,
   "id": "acd446ac",
   "metadata": {},
   "outputs": [],
   "source": [
    "search = driver.find_element(By.XPATH,'/html/body/div[1]/div/div[1]/div/div/div/div/div[1]/div/div[1]/div/div[1]/div[1]/header/div[1]/div[2]/form/div/div/input')\n",
    "search.click()\n",
    "sleep(1)\n",
    "search.send_keys('dslr cameras')\n",
    "search.send_keys(Keys.RETURN)\n",
    "sleep(2)"
   ]
  },
  {
   "cell_type": "code",
   "execution_count": 11,
   "id": "0f86fc1d",
   "metadata": {},
   "outputs": [],
   "source": [
    "ratings = driver.find_element(By.XPATH,\"/html/body/div/div/div[3]/div[1]/div[1]/div/div[1]/div/section[5]/div[2]/div/div[3]/div/label/div[1]\")\n",
    "ratings.click()\n",
    "sleep(2)"
   ]
  },
  {
   "cell_type": "code",
   "execution_count": 12,
   "id": "09fbd186",
   "metadata": {},
   "outputs": [],
   "source": [
    "GST = driver.find_element(By.XPATH,\"/html/body/div/div/div[3]/div/div[1]/div/div[1]/div/section[12]/div\")\n",
    "GST.click()\n",
    "invoice = driver.find_element(By.XPATH,\"/html/body/div/div/div[3]/div/div[1]/div/div[1]/div/section[12]/div[2]\")\n",
    "invoice.click()\n",
    "sleep(2)"
   ]
  },
  {
   "cell_type": "code",
   "execution_count": 13,
   "id": "90b6be8f",
   "metadata": {},
   "outputs": [],
   "source": [
    "Type = driver.find_element(By.XPATH,\"/html/body/div/div/div[3]/div/div[1]/div/div[1]/div/section[8]/div\")\n",
    "Type.click()\n",
    "sleep(2)\n",
    "Mirrorless = driver.find_element(By.XPATH,\"/html/body/div/div/div[3]/div/div[1]/div/div[1]/div/section[8]/div[2]/div/div[2]\")\n",
    "Mirrorless.click()\n",
    "sleep(2)"
   ]
  },
  {
   "cell_type": "code",
   "execution_count": 7,
   "id": "6f896888",
   "metadata": {},
   "outputs": [],
   "source": [
    "current_url = driver.current_url"
   ]
  },
  {
   "cell_type": "code",
   "execution_count": 8,
   "id": "39fe1358",
   "metadata": {},
   "outputs": [],
   "source": [
    "Headers = {'User-Agent':'Mozilla/5.0 (Windows NT 10.0; Win64; x64) AppleWebKit/537.36 (KHTML, like Gecko) Chrome/117.0.0.0 Safari/537.36'}\n",
    "data = requests.get(current_url, headers=Headers)\n",
    "soup = BeautifulSoup(data.text, \"html.parser\")\n",
    "\n",
    "list_items = soup.find_all('div',{'class':'_1AtVbE col-12-12'})\n",
    "titles = [title.text for title in soup.select('._4rR01T')]\n",
    "prices = [price.text for price in soup.select('._30jeq3')]\n",
    "ratings = [rating.text for rating in soup.select('._3LWZlK')]\n",
    "\n",
    "result = pd.DataFrame({'Title':titles,'Price':prices,'Ratings':ratings})\n",
    "result.to_excel(\"Flipkart_Data.xlsx\",index=False)"
   ]
  },
  {
   "cell_type": "code",
   "execution_count": null,
   "id": "94ffe79a",
   "metadata": {},
   "outputs": [],
   "source": []
  }
 ],
 "metadata": {
  "kernelspec": {
   "display_name": "Python 3 (ipykernel)",
   "language": "python",
   "name": "python3"
  },
  "language_info": {
   "codemirror_mode": {
    "name": "ipython",
    "version": 3
   },
   "file_extension": ".py",
   "mimetype": "text/x-python",
   "name": "python",
   "nbconvert_exporter": "python",
   "pygments_lexer": "ipython3",
   "version": "3.9.13"
  }
 },
 "nbformat": 4,
 "nbformat_minor": 5
}
